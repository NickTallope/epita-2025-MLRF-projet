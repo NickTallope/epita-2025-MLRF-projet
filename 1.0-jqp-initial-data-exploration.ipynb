{
 "cells": [
  {
   "cell_type": "markdown",
   "metadata": {},
   "source": [
    "**Projet MLRF - Epita SCIA-G 2025**"
   ]
  },
  {
   "cell_type": "markdown",
   "metadata": {},
   "source": [
    "# Initial Data Exploration - The CIFAR-10 dataset"
   ]
  },
  {
   "cell_type": "markdown",
   "metadata": {},
   "source": [
    "The **CIFAR-10** dataset consists of 60000 32x32 colour images in **10 classes**, with 6000 images per class. There are 50000 training images and 10000 test images. \n",
    "\n",
    "The dataset is divided into five training batches and one test batch, each with 10000 images. The test batch contains exactly 1000 randomly-selected images from each class. The training batches contain the remaining images in random order, but some training batches may contain more images from one class than another. Between them, the training batches contain exactly 5000 images from each class."
   ]
  },
  {
   "cell_type": "markdown",
   "metadata": {},
   "source": [
    "Here are the classes in the dataset, as well as 10 random images from each:\n",
    "\n",
    "- airplane ![Description de l'image](reports/figures/airplane1_example.png)![Description de l'image](reports/figures/airplane2_example.png)![Description de l'image](reports/figures/airplane3_example.png)![Description de l'image](reports/figures/airplane4_example.png)![Description de l'image](reports/figures/airplane5_example.png)![Description de l'image](reports/figures/airplane6_example.png)![Description de l'image](reports/figures/airplane7_example.png)![Description de l'image](reports/figures/airplane8_example.png)![Description de l'image](reports/figures/airplane9_example.png)![Description de l'image](reports/figures/airplane10_example.png)\n",
    "\n",
    "- automobile  ![Description de l'image](reports/figures/automobile1_example.png)![Description de l'image](reports/figures/automobile2_example.png)\n",
    "![Description de l'image](reports/figures/automobile3_example.png)![Description de l'image](reports/figures/automobile4_example.png)![Description de l'image](reports/figures/automobile5_example.png)![Description de l'image](reports/figures/automobile6_example.png)![Description de l'image](reports/figures/automobile7_example.png)![Description de l'image](reports/figures/automobile8_example.png)![Description de l'image](reports/figures/automobile9_example.png)![Description de l'image](reports/figures/automobile10_example.png)\t\t\t\t\t\t\t\t\n",
    "\n",
    "- bird\t\t![Description de l'image](reports/figures/bird1_example.png) ![Description de l'image](reports/figures/bird2_example.png)\t\t\n",
    "![Description de l'image](reports/figures/bird3_example.png) ![Description de l'image](reports/figures/bird4_example.png)![Description de l'image](reports/figures/bird5_example.png)![Description de l'image](reports/figures/bird6_example.png)![Description de l'image](reports/figures/bird7_example.png) ![Description de l'image](reports/figures/bird8_example.png)![Description de l'image](reports/figures/bird9_example.png) ![Description de l'image](reports/figures/bird10_example.png)\t\t\t\t\t\t\n",
    "\n",
    "- cat\t\t![Description de l'image](reports/figures/cat1_example.png)![Description de l'image](reports/figures/cat2_example.png) ![Description de l'image](reports/figures/cat3_example.png)![Description de l'image](reports/figures/cat4_example.png)![Description de l'image](reports/figures/cat5_example.png)![Description de l'image](reports/figures/cat6_example.png)![Description de l'image](reports/figures/cat7_example.png)![Description de l'image](reports/figures/cat8_example.png)![Description de l'image](reports/figures/cat9_example.png)![Description de l'image](reports/figures/cat10_example.png)\t\t\t\t\t\t\n",
    "\n",
    "- deer\t![Description de l'image](reports/figures/deer1_example.png)![Description de l'image](reports/figures/deer2_example.png) ![Description de l'image](reports/figures/deer3_example.png)![Description de l'image](reports/figures/deer4_example.png)![Description de l'image](reports/figures/deer5_example.png)![Description de l'image](reports/figures/deer6_example.png)![Description de l'image](reports/figures/deer7_example.png)![Description de l'image](reports/figures/deer8_example.png)![Description de l'image](reports/figures/deer9_example.png)![Description de l'image](reports/figures/deer10_example.png)\t\t\t\t\t\t\t\n",
    "\n",
    "- dog\t![Description de l'image](reports/figures/dog1_example.png)\t![Description de l'image](reports/figures/dog2_example.png)![Description de l'image](reports/figures/dog3_example.png)\t![Description de l'image](reports/figures/dog4_example.png)![Description de l'image](reports/figures/dog5_example.png)\t![Description de l'image](reports/figures/dog6_example.png)![Description de l'image](reports/figures/dog7_example.png)\t![Description de l'image](reports/figures/dog8_example.png)![Description de l'image](reports/figures/dog9_example.png)\t![Description de l'image](reports/figures/dog10_example.png)\t\t\t\t\t\t\t\t\t\n",
    "\n",
    "- frog\t![Description de l'image](reports/figures/frog1_example.png)![Description de l'image](reports/figures/frog2_example.png)![Description de l'image](reports/figures/frog3_example.png)![Description de l'image](reports/figures/frog4_example.png)![Description de l'image](reports/figures/frog5_example.png)![Description de l'image](reports/figures/frog6_example.png)\n",
    "![Description de l'image](reports/figures/frog7_example.png)![Description de l'image](reports/figures/frog8_example.png)![Description de l'image](reports/figures/frog9_example.png)![Description de l'image](reports/figures/frog10_example.png)\t\t\t\t\t\t\t\n",
    "\n",
    "- horse\t\t![Description de l'image](reports/figures/horse1_example.png)![Description de l'image](reports/figures/horse2_example.png)![Description de l'image](reports/figures/horse3_example.png)![Description de l'image](reports/figures/horse4_example.png)![Description de l'image](reports/figures/horse5_example.png)![Description de l'image](reports/figures/horse6_example.png)![Description de l'image](reports/figures/horse7_example.png)![Description de l'image](reports/figures/horse8_example.png)![Description de l'image](reports/figures/horse9_example.png)![Description de l'image](reports/figures/horse10_example.png)\t\t\t\t\t\t\t\t\n",
    "\n",
    "- ship\t\t![Description de l'image](reports/figures/ship1_example.png)![Description de l'image](reports/figures/ship2_example.png)![Description de l'image](reports/figures/ship3_example.png)![Description de l'image](reports/figures/ship4_example.png)![Description de l'image](reports/figures/ship5_example.png)![Description de l'image](reports/figures/ship6_example.png)![Description de l'image](reports/figures/ship7_example.png)![Description de l'image](reports/figures/ship8_example.png)![Description de l'image](reports/figures/ship9_example.png)![Description de l'image](reports/figures/ship10_example.png)\t\t\t\t\t\t\t\t\n",
    "\n",
    "- truck\t\t![Description de l'image](reports/figures/truck1_example.png)![Description de l'image](reports/figures/truck2_example.png)![Description de l'image](reports/figures/truck3_example.png)![Description de l'image](reports/figures/truck4_example.png)![Description de l'image](reports/figures/truck5_example.png)![Description de l'image](reports/figures/truck6_example.png)![Description de l'image](reports/figures/truck7_example.png)![Description de l'image](reports/figures/truck8_example.png)![Description de l'image](reports/figures/truck9_example.png)![Description de l'image](reports/figures/truck10_example.png)\n"
   ]
  },
  {
   "cell_type": "code",
   "execution_count": null,
   "metadata": {},
   "outputs": [],
   "source": []
  }
 ],
 "metadata": {
  "kernelspec": {
   "display_name": "Python 3.9.6 64-bit",
   "language": "python",
   "name": "python3"
  },
  "language_info": {
   "name": "python",
   "version": "3.9.6"
  },
  "orig_nbformat": 4,
  "vscode": {
   "interpreter": {
    "hash": "31f2aee4e71d21fbe5cf8b01ff0e069b9275f58929596ceb00d14d90e3e16cd6"
   }
  }
 },
 "nbformat": 4,
 "nbformat_minor": 2
}
